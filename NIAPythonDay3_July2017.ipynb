{
 "cells": [
  {
   "cell_type": "markdown",
   "metadata": {},
   "source": [
    "NIA Intro to Python Class - May 17, 2017"
   ]
  },
  {
   "cell_type": "markdown",
   "metadata": {},
   "source": [
    "# Day 3: Control Flow, plus advanced data types\n",
    "\n",
    "Part 1 of today's talk focuses on control flow ([wiki article](http://en.wikipedia.org/wiki/Control_flow)), which is the part of a programming language's syntax that enables execution of the program to follow down one or more branches of instructions conditionaly, or going in loops.\n",
    "* <code>if</code>/<code>then</code>/<code>else</code>\n",
    "* <code>while</code> loops\n",
    "* <code>for</code> loops\n",
    "* nested <code>for</code> loops\n",
    "\n",
    "Part 2 of todays talk will involve discussion of two new data types that are third-party extensions to Python but are universally used in the data analysis.\n",
    "* Matrices using [NumPy arrays](https://docs.scipy.org/doc/numpy-dev/user/quickstart.html)\n",
    "* DataFrames using [Pandas](http://pandas.pydata.org/pandas-docs/stable/10min.html)\n",
    "\n",
    "---"
   ]
  },
  {
   "cell_type": "markdown",
   "metadata": {},
   "source": [
    "## Preview for tomorrow:\n",
    "\n",
    "[These](https://seaborn.pydata.org/examples/index.html) are just a few of the types of data visualizations you can do in Python."
   ]
  },
  {
   "cell_type": "markdown",
   "metadata": {},
   "source": [
    "## Review of material thus far\n",
    "\n",
    "1. Familiarizing yourself with the Jupyter Notebook IDE\n",
    "    * code completion using Tab key\n",
    "    * print out all your variables\n",
    "    * syntax highlighting\n",
    "    * more\n",
    "2. Python scalar data types\n",
    "    * <code>int</code>\n",
    "    * <code>float</code>\n",
    "    * <code>bool</code>\n",
    "3. Python iterable data types\n",
    "    * <code>str</code>\n",
    "    * <code>list</code>\n",
    "    * <code>tuple</code>\n",
    "    * <code>dict</code>\n",
    "    * <code>set</code>\n",
    "4. Operators and Operations on Iterables\n",
    "    * add items to and delete items from iterables\n",
    "    * split, slice and concatenate\n",
    "    * Nested iterables\n",
    "    * Basic sorting"
   ]
  },
  {
   "cell_type": "markdown",
   "metadata": {},
   "source": [
    "## Conditional Statements"
   ]
  },
  {
   "cell_type": "markdown",
   "metadata": {},
   "source": [
    "### The <code>if</code> statement (a simple conditional)\n",
    "\n",
    "* Use the keyword <code>if</code>, followed by the test, followed by a colon\n",
    "* lines that should be evaluated if the test is true should be indented."
   ]
  },
  {
   "cell_type": "code",
   "execution_count": 4,
   "metadata": {},
   "outputs": [
    {
     "name": "stdout",
     "output_type": "stream",
     "text": [
      "yup\n",
      "This line prints regardless.\n"
     ]
    }
   ],
   "source": [
    "if False:\n",
    "    print( \"True fact.\")\n",
    "    print( \"yup\" )\n",
    "print( \"This line prints regardless.\" )"
   ]
  },
  {
   "cell_type": "markdown",
   "metadata": {},
   "source": [
    "### <code>if</code>/<code>else</code> statements (a one alternative conditional)\n",
    "\n",
    "* The <code>else</code> statements goes at the same indentation level as the matching <code>if</code> statement:"
   ]
  },
  {
   "cell_type": "code",
   "execution_count": 6,
   "metadata": {},
   "outputs": [
    {
     "name": "stdout",
     "output_type": "stream",
     "text": [
      "This ain't gonna print.\n",
      "This line prints regardless.\n"
     ]
    }
   ],
   "source": [
    "if False:\n",
    "    print( \"True fact.\")\n",
    "    print( \"Yup.\" )\n",
    "else:\n",
    "    print( \"This ain't gonna print.\" )\n",
    "print( \"This line prints regardless.\")"
   ]
  },
  {
   "cell_type": "markdown",
   "metadata": {},
   "source": [
    "### Simple tests and compound tests\n",
    "\n",
    "Use an operator inside the conditional, and use other operators to combine tests."
   ]
  },
  {
   "cell_type": "code",
   "execution_count": 10,
   "metadata": {
    "collapsed": true
   },
   "outputs": [],
   "source": [
    "some_value = -1"
   ]
  },
  {
   "cell_type": "code",
   "execution_count": 8,
   "metadata": {},
   "outputs": [
    {
     "data": {
      "text/plain": [
       "False"
      ]
     },
     "execution_count": 8,
     "metadata": {},
     "output_type": "execute_result"
    }
   ],
   "source": [
    "some_value < 0"
   ]
  },
  {
   "cell_type": "code",
   "execution_count": 11,
   "metadata": {},
   "outputs": [
    {
     "name": "stdout",
     "output_type": "stream",
     "text": [
      "-1 has a negative sign.\n"
     ]
    }
   ],
   "source": [
    "if some_value < 0:\n",
    "    print( str( some_value), \"has a negative sign.\")\n",
    "else:\n",
    "    print( str( some_value) , \"doesn't have a negative sign.\")"
   ]
  },
  {
   "cell_type": "code",
   "execution_count": 15,
   "metadata": {},
   "outputs": [
    {
     "name": "stdout",
     "output_type": "stream",
     "text": [
      "0 is out-of-bounds.\n"
     ]
    }
   ],
   "source": [
    "test_value = 0\n",
    "\n",
    "if test_value < 10 or test_value > 20:\n",
    "    print( str( test_value ), \"is out-of-bounds.\")\n",
    "else:\n",
    "    print( str( some_value ) , \"is inbounds.\")"
   ]
  },
  {
   "cell_type": "markdown",
   "metadata": {},
   "source": [
    "Boolean expressions are evaluated left to right and have an order of operations. Use parentheses to clarify."
   ]
  },
  {
   "cell_type": "markdown",
   "metadata": {},
   "source": [
    "### <code>any()</code> and <code>all()</code>"
   ]
  },
  {
   "cell_type": "code",
   "execution_count": 16,
   "metadata": {
    "collapsed": true
   },
   "outputs": [],
   "source": [
    "some_conditions = [False, False, False, True, True]"
   ]
  },
  {
   "cell_type": "code",
   "execution_count": 17,
   "metadata": {
    "scrolled": true
   },
   "outputs": [
    {
     "data": {
      "text/plain": [
       "True"
      ]
     },
     "execution_count": 17,
     "metadata": {},
     "output_type": "execute_result"
    }
   ],
   "source": [
    "any( some_conditions )"
   ]
  },
  {
   "cell_type": "code",
   "execution_count": 18,
   "metadata": {},
   "outputs": [
    {
     "data": {
      "text/plain": [
       "False"
      ]
     },
     "execution_count": 18,
     "metadata": {},
     "output_type": "execute_result"
    }
   ],
   "source": [
    "all( some_conditions )"
   ]
  },
  {
   "cell_type": "markdown",
   "metadata": {},
   "source": [
    "### By the way....\n",
    "\n",
    "Coercing True or False values into integers is one way to count them."
   ]
  },
  {
   "cell_type": "code",
   "execution_count": 19,
   "metadata": {},
   "outputs": [
    {
     "data": {
      "text/plain": [
       "1"
      ]
     },
     "execution_count": 19,
     "metadata": {},
     "output_type": "execute_result"
    }
   ],
   "source": [
    "int(True)"
   ]
  },
  {
   "cell_type": "code",
   "execution_count": 20,
   "metadata": {},
   "outputs": [
    {
     "data": {
      "text/plain": [
       "0"
      ]
     },
     "execution_count": 20,
     "metadata": {},
     "output_type": "execute_result"
    }
   ],
   "source": [
    "int(False)"
   ]
  },
  {
   "cell_type": "code",
   "execution_count": 21,
   "metadata": {},
   "outputs": [
    {
     "data": {
      "text/plain": [
       "[False, False, False, True, True]"
      ]
     },
     "execution_count": 21,
     "metadata": {},
     "output_type": "execute_result"
    }
   ],
   "source": [
    "some_conditions"
   ]
  },
  {
   "cell_type": "code",
   "execution_count": 22,
   "metadata": {},
   "outputs": [
    {
     "data": {
      "text/plain": [
       "2"
      ]
     },
     "execution_count": 22,
     "metadata": {},
     "output_type": "execute_result"
    }
   ],
   "source": [
    "sum( some_conditions )"
   ]
  },
  {
   "cell_type": "markdown",
   "metadata": {},
   "source": [
    "### <code>if</code>/<code>elif</code>/<code>else</code> (multi-test conditional)"
   ]
  },
  {
   "cell_type": "code",
   "execution_count": 25,
   "metadata": {},
   "outputs": [
    {
     "name": "stdout",
     "output_type": "stream",
     "text": [
      "15 is just right.\n"
     ]
    }
   ],
   "source": [
    "test_value = 15\n",
    "\n",
    "if test_value < 10:\n",
    "    print( str( test_value ), \"is too low\")\n",
    "elif test_value > 20:\n",
    "    print( str( test_value ), \"is too high\")\n",
    "else:\n",
    "    print( str( test_value ) , \"is just right.\")"
   ]
  },
  {
   "cell_type": "markdown",
   "metadata": {},
   "source": [
    "### The <code>pass</code> statement: no naked <code>if</code> statements!\n",
    "If you want Python to do nothing if the condition is true, you can't just leave a blank line, you have to use the keyword <code>pass</code>, properly indented."
   ]
  },
  {
   "cell_type": "code",
   "execution_count": 30,
   "metadata": {},
   "outputs": [],
   "source": [
    "planet_earth = { 'population' : 6e9, 'color' : 'blue' }\n",
    "\n",
    "# There's nothing I can do...\n",
    "if planet_earth['color'] != 'blue':\n",
    "    print( \"Floating in my tin can.\" )"
   ]
  },
  {
   "cell_type": "markdown",
   "metadata": {},
   "source": [
    "### One-liner if statements\n",
    "\n",
    "You can put the single conditionals on one line if you want."
   ]
  },
  {
   "cell_type": "code",
   "execution_count": 32,
   "metadata": {
    "collapsed": true
   },
   "outputs": [],
   "source": [
    "if 'man' is 5: the_devil = 6"
   ]
  },
  {
   "cell_type": "markdown",
   "metadata": {},
   "source": [
    "## <a name=\"while\"><code>while</code> loops</a>\n",
    "\n",
    "A while loop evaluates a boolean expression and does the code in the loop over and over as long as the expression evaluates to true."
   ]
  },
  {
   "cell_type": "code",
   "execution_count": 34,
   "metadata": {},
   "outputs": [
    {
     "name": "stdout",
     "output_type": "stream",
     "text": [
      "No beer, you 15-year-old, wait until next year.\n",
      "No beer, you 16-year-old, wait until next year.\n",
      "No beer, you 17-year-old, wait until next year.\n",
      "No beer, you 18-year-old, wait until next year.\n",
      "No beer, you 19-year-old, wait until next year.\n",
      "No beer, you 20-year-old, wait until next year.\n",
      "You're 21, it's party time!\n"
     ]
    }
   ],
   "source": [
    "age = 15\n",
    "while True:\n",
    "    print( \"No beer, you\", str(age) + \"-year-old, wait until next year.\")\n",
    "    age += 1\n",
    "    if age >= 21:\n",
    "        break\n",
    "\n",
    "print( \"You're 21, it's party time!\")"
   ]
  },
  {
   "cell_type": "markdown",
   "metadata": {},
   "source": [
    "Another way to structure a while loop is to \"loop forever\" and use a conditional statement with the <code>break</code> keyword."
   ]
  },
  {
   "cell_type": "markdown",
   "metadata": {},
   "source": [
    "## <a name=\"for\"><code>for</code> loops</a>\n",
    "\n",
    "* \"Python’s <code>for</code> statement iterates over the items of any sequence (a list or a string), in the order that they appear in the sequence.\" [reference](http://docs.python.org/2/tutorial/controlflow.html).\n",
    "* Often times if you know exactly how many times you need to loop, you'll use the <code>range()</code> function, which returns a list of numbers for the for loop to iterate over.\n",
    "* Each time through the loop, Python with put the next item in the sequence into the variable whose name you declare by putting it between the <code>for</code> and <code>in</code> keywords."
   ]
  },
  {
   "cell_type": "markdown",
   "metadata": {},
   "source": [
    "### Iterate N times"
   ]
  },
  {
   "cell_type": "code",
   "execution_count": 35,
   "metadata": {},
   "outputs": [
    {
     "data": {
      "text/plain": [
       "[0, 1, 2, 3, 4, 5, 6, 7, 8, 9]"
      ]
     },
     "execution_count": 35,
     "metadata": {},
     "output_type": "execute_result"
    }
   ],
   "source": [
    "# range counts from 0\n",
    "list( range(10) )"
   ]
  },
  {
   "cell_type": "code",
   "execution_count": 36,
   "metadata": {},
   "outputs": [
    {
     "name": "stdout",
     "output_type": "stream",
     "text": [
      "0th time through the for loop.\n",
      "1st time through the for loop.\n",
      "2nd time through the for loop.\n",
      "3rd time through the for loop.\n",
      "4th time through the for loop.\n",
      "5th time through the for loop.\n",
      "6th time through the for loop.\n",
      "7th time through the for loop.\n",
      "8th time through the for loop.\n",
      "9th time through the for loop.\n"
     ]
    }
   ],
   "source": [
    "for i in range(10):\n",
    "    if i == 1:\n",
    "        suffix = 'st'\n",
    "    elif i == 2:\n",
    "        suffix = 'nd'\n",
    "    elif i == 3:\n",
    "        suffix = 'rd'\n",
    "    else:\n",
    "        suffix = 'th'\n",
    "    print( str(i) + suffix, \"time through the for loop.\" )"
   ]
  },
  {
   "cell_type": "markdown",
   "metadata": {},
   "source": [
    "### Iterate over a list of objects"
   ]
  },
  {
   "cell_type": "code",
   "execution_count": 37,
   "metadata": {
    "collapsed": true
   },
   "outputs": [],
   "source": [
    "name_list = ['dick', 'jane', 'spot', 'mom', 'dad' ]"
   ]
  },
  {
   "cell_type": "code",
   "execution_count": 38,
   "metadata": {},
   "outputs": [
    {
     "data": {
      "text/plain": [
       "['dick', 'jane', 'spot', 'mom', 'dad']"
      ]
     },
     "execution_count": 38,
     "metadata": {},
     "output_type": "execute_result"
    }
   ],
   "source": [
    "name_list"
   ]
  },
  {
   "cell_type": "code",
   "execution_count": 39,
   "metadata": {},
   "outputs": [
    {
     "name": "stdout",
     "output_type": "stream",
     "text": [
      "see dick run!\n",
      "see jane run!\n",
      "see spot run!\n",
      "see mom run!\n",
      "see dad run!\n"
     ]
    }
   ],
   "source": [
    "for name in name_list:\n",
    "    print( \"see\", name, \"run!\" )"
   ]
  },
  {
   "cell_type": "markdown",
   "metadata": {},
   "source": [
    "### Unpacking nested iterables inside the <code>for</code> loop\n",
    "* See how you can unpack the tuple right inside the for loop:"
   ]
  },
  {
   "cell_type": "code",
   "execution_count": 40,
   "metadata": {},
   "outputs": [
    {
     "data": {
      "text/plain": [
       "['dick', 'jane', 'spot', 'mom', 'dad']"
      ]
     },
     "execution_count": 40,
     "metadata": {},
     "output_type": "execute_result"
    }
   ],
   "source": [
    "name_list"
   ]
  },
  {
   "cell_type": "code",
   "execution_count": 41,
   "metadata": {
    "collapsed": true
   },
   "outputs": [],
   "source": [
    "num_names = len( name_list )"
   ]
  },
  {
   "cell_type": "code",
   "execution_count": 42,
   "metadata": {},
   "outputs": [
    {
     "data": {
      "text/plain": [
       "5"
      ]
     },
     "execution_count": 42,
     "metadata": {},
     "output_type": "execute_result"
    }
   ],
   "source": [
    "num_names"
   ]
  },
  {
   "cell_type": "code",
   "execution_count": 43,
   "metadata": {
    "collapsed": true
   },
   "outputs": [],
   "source": [
    "indices = list( range( num_names ) )"
   ]
  },
  {
   "cell_type": "code",
   "execution_count": 45,
   "metadata": {},
   "outputs": [
    {
     "data": {
      "text/plain": [
       "[0, 1, 2, 3, 4]"
      ]
     },
     "execution_count": 45,
     "metadata": {},
     "output_type": "execute_result"
    }
   ],
   "source": [
    "indices"
   ]
  },
  {
   "cell_type": "code",
   "execution_count": 46,
   "metadata": {
    "collapsed": true
   },
   "outputs": [],
   "source": [
    "zipped_together = list( zip( indices, name_list ) )"
   ]
  },
  {
   "cell_type": "code",
   "execution_count": 47,
   "metadata": {},
   "outputs": [
    {
     "data": {
      "text/plain": [
       "[(0, 'dick'), (1, 'jane'), (2, 'spot'), (3, 'mom'), (4, 'dad')]"
      ]
     },
     "execution_count": 47,
     "metadata": {},
     "output_type": "execute_result"
    }
   ],
   "source": [
    "zipped_together"
   ]
  },
  {
   "cell_type": "code",
   "execution_count": 50,
   "metadata": {
    "collapsed": true
   },
   "outputs": [],
   "source": [
    "name1, name2, name3, name4, name5 = name_list"
   ]
  },
  {
   "cell_type": "code",
   "execution_count": 51,
   "metadata": {},
   "outputs": [
    {
     "data": {
      "text/plain": [
       "'jane'"
      ]
     },
     "execution_count": 51,
     "metadata": {},
     "output_type": "execute_result"
    }
   ],
   "source": [
    "name2"
   ]
  },
  {
   "cell_type": "code",
   "execution_count": 49,
   "metadata": {},
   "outputs": [
    {
     "name": "stdout",
     "output_type": "stream",
     "text": [
      "Line 0 - See dick run!\n",
      "Line 1 - See jane run!\n",
      "Line 2 - See spot run!\n",
      "Line 3 - See mom run!\n",
      "Line 4 - See dad run!\n"
     ]
    }
   ],
   "source": [
    "for the_tuple in zipped_together:\n",
    "    i = the_tuple[0]\n",
    "    name = the_tuple[1]\n",
    "    print( \"Line\", i, \"- See\", name, \"run!\" )"
   ]
  },
  {
   "cell_type": "markdown",
   "metadata": {},
   "source": [
    "### Using <code>enumerate()</code> to count off for you\n",
    "\n",
    "* The code above is quivalent to using enumerate.\n",
    "* Use the function <code>enumerate()</code> if you need to slap an index onto an iterable you already have.\n",
    "* Each time through the loop <code>enumerate()</code> returns a tuple of two values, the first being the index, and the second being the value."
   ]
  },
  {
   "cell_type": "code",
   "execution_count": 52,
   "metadata": {},
   "outputs": [
    {
     "name": "stdout",
     "output_type": "stream",
     "text": [
      "Line 0 - See dick run!\n",
      "Line 1 - See jane run!\n",
      "Line 2 - See spot run!\n",
      "Line 3 - See mom run!\n",
      "Line 4 - See dad run!\n"
     ]
    }
   ],
   "source": [
    "for i, name in enumerate( name_list ):\n",
    "    print( \"Line\", i, \"- See\", name, \"run!\" )"
   ]
  },
  {
   "cell_type": "markdown",
   "metadata": {},
   "source": [
    "## Nested <code>for</code> loops\n",
    "\n",
    "You can put for loops inside other for loops. For example here's a brute force way to create a multiplication table."
   ]
  },
  {
   "cell_type": "code",
   "execution_count": 53,
   "metadata": {
    "collapsed": true
   },
   "outputs": [],
   "source": [
    "all_rows = []\n",
    "\n",
    "for i in range(1,13):\n",
    "    a_row = []\n",
    "    for j in range(1,13):\n",
    "        a_row.append( i * j )\n",
    "    all_rows.append( a_row )"
   ]
  },
  {
   "cell_type": "code",
   "execution_count": 54,
   "metadata": {},
   "outputs": [
    {
     "data": {
      "text/plain": [
       "[[1, 2, 3, 4, 5, 6, 7, 8, 9, 10, 11, 12],\n",
       " [2, 4, 6, 8, 10, 12, 14, 16, 18, 20, 22, 24],\n",
       " [3, 6, 9, 12, 15, 18, 21, 24, 27, 30, 33, 36],\n",
       " [4, 8, 12, 16, 20, 24, 28, 32, 36, 40, 44, 48],\n",
       " [5, 10, 15, 20, 25, 30, 35, 40, 45, 50, 55, 60],\n",
       " [6, 12, 18, 24, 30, 36, 42, 48, 54, 60, 66, 72],\n",
       " [7, 14, 21, 28, 35, 42, 49, 56, 63, 70, 77, 84],\n",
       " [8, 16, 24, 32, 40, 48, 56, 64, 72, 80, 88, 96],\n",
       " [9, 18, 27, 36, 45, 54, 63, 72, 81, 90, 99, 108],\n",
       " [10, 20, 30, 40, 50, 60, 70, 80, 90, 100, 110, 120],\n",
       " [11, 22, 33, 44, 55, 66, 77, 88, 99, 110, 121, 132],\n",
       " [12, 24, 36, 48, 60, 72, 84, 96, 108, 120, 132, 144]]"
      ]
     },
     "execution_count": 54,
     "metadata": {},
     "output_type": "execute_result"
    }
   ],
   "source": [
    "all_rows"
   ]
  },
  {
   "cell_type": "code",
   "execution_count": 59,
   "metadata": {},
   "outputs": [
    {
     "data": {
      "text/plain": [
       "[12, 24, 36, 48, 60, 72, 84, 96, 108, 120, 132, 144]"
      ]
     },
     "execution_count": 59,
     "metadata": {},
     "output_type": "execute_result"
    }
   ],
   "source": [
    "[ _[-1] for _ in all_rows ]"
   ]
  },
  {
   "cell_type": "markdown",
   "metadata": {},
   "source": [
    "## NumPy arrays\n",
    "\n",
    "* Rather than nested lists, you can use a matrix.\n",
    "* Use if you have data all of the same type (ints, floats, bools)\n",
    "* Row indices and column indices count from 0!\n",
    "* Numpy matrices have basic statistics built in."
   ]
  },
  {
   "cell_type": "code",
   "execution_count": 60,
   "metadata": {
    "collapsed": true
   },
   "outputs": [],
   "source": [
    "# import the package and give it a nickname\n",
    "import numpy as np"
   ]
  },
  {
   "cell_type": "markdown",
   "metadata": {},
   "source": [
    "### Initialize a new matrix from a nested list"
   ]
  },
  {
   "cell_type": "code",
   "execution_count": 61,
   "metadata": {
    "collapsed": true
   },
   "outputs": [],
   "source": [
    "mult_table = np.array( all_rows )"
   ]
  },
  {
   "cell_type": "code",
   "execution_count": 62,
   "metadata": {},
   "outputs": [
    {
     "data": {
      "text/plain": [
       "array([[  1,   2,   3,   4,   5,   6,   7,   8,   9,  10,  11,  12],\n",
       "       [  2,   4,   6,   8,  10,  12,  14,  16,  18,  20,  22,  24],\n",
       "       [  3,   6,   9,  12,  15,  18,  21,  24,  27,  30,  33,  36],\n",
       "       [  4,   8,  12,  16,  20,  24,  28,  32,  36,  40,  44,  48],\n",
       "       [  5,  10,  15,  20,  25,  30,  35,  40,  45,  50,  55,  60],\n",
       "       [  6,  12,  18,  24,  30,  36,  42,  48,  54,  60,  66,  72],\n",
       "       [  7,  14,  21,  28,  35,  42,  49,  56,  63,  70,  77,  84],\n",
       "       [  8,  16,  24,  32,  40,  48,  56,  64,  72,  80,  88,  96],\n",
       "       [  9,  18,  27,  36,  45,  54,  63,  72,  81,  90,  99, 108],\n",
       "       [ 10,  20,  30,  40,  50,  60,  70,  80,  90, 100, 110, 120],\n",
       "       [ 11,  22,  33,  44,  55,  66,  77,  88,  99, 110, 121, 132],\n",
       "       [ 12,  24,  36,  48,  60,  72,  84,  96, 108, 120, 132, 144]])"
      ]
     },
     "execution_count": 62,
     "metadata": {},
     "output_type": "execute_result"
    }
   ],
   "source": [
    "mult_table"
   ]
  },
  {
   "cell_type": "markdown",
   "metadata": {},
   "source": [
    "### The <code>.shape</code> attribute"
   ]
  },
  {
   "cell_type": "code",
   "execution_count": 72,
   "metadata": {},
   "outputs": [
    {
     "data": {
      "text/plain": [
       "tuple"
      ]
     },
     "execution_count": 72,
     "metadata": {},
     "output_type": "execute_result"
    }
   ],
   "source": [
    "type(mult_table.shape)"
   ]
  },
  {
   "cell_type": "code",
   "execution_count": 73,
   "metadata": {},
   "outputs": [
    {
     "data": {
      "text/plain": [
       "numpy.ndarray"
      ]
     },
     "execution_count": 73,
     "metadata": {},
     "output_type": "execute_result"
    }
   ],
   "source": [
    "type(mult_table.T)"
   ]
  },
  {
   "cell_type": "code",
   "execution_count": 74,
   "metadata": {},
   "outputs": [
    {
     "data": {
      "text/plain": [
       "builtin_function_or_method"
      ]
     },
     "execution_count": 74,
     "metadata": {},
     "output_type": "execute_result"
    }
   ],
   "source": [
    "type(mult_table.sum)"
   ]
  },
  {
   "cell_type": "code",
   "execution_count": 76,
   "metadata": {},
   "outputs": [],
   "source": [
    "mult_table.sum?"
   ]
  },
  {
   "cell_type": "code",
   "execution_count": 65,
   "metadata": {},
   "outputs": [
    {
     "data": {
      "text/plain": [
       "6084"
      ]
     },
     "execution_count": 65,
     "metadata": {},
     "output_type": "execute_result"
    }
   ],
   "source": [
    "mult_table.sum()"
   ]
  },
  {
   "cell_type": "code",
   "execution_count": 66,
   "metadata": {},
   "outputs": [
    {
     "data": {
      "text/plain": [
       "42.25"
      ]
     },
     "execution_count": 66,
     "metadata": {},
     "output_type": "execute_result"
    }
   ],
   "source": [
    "mult_table.mean()"
   ]
  },
  {
   "cell_type": "code",
   "execution_count": 67,
   "metadata": {},
   "outputs": [
    {
     "data": {
      "text/plain": [
       "array([  6.5,  13. ,  19.5,  26. ,  32.5,  39. ,  45.5,  52. ,  58.5,\n",
       "        65. ,  71.5,  78. ])"
      ]
     },
     "execution_count": 67,
     "metadata": {},
     "output_type": "execute_result"
    }
   ],
   "source": [
    "mult_table.mean(axis=0)"
   ]
  },
  {
   "cell_type": "markdown",
   "metadata": {},
   "source": [
    "### Declare an empty matrix of a fixed size"
   ]
  },
  {
   "cell_type": "code",
   "execution_count": 79,
   "metadata": {},
   "outputs": [],
   "source": [
    "np.imag?"
   ]
  },
  {
   "cell_type": "code",
   "execution_count": 81,
   "metadata": {
    "collapsed": true
   },
   "outputs": [],
   "source": [
    "mult_table = np.empty((12,12))"
   ]
  },
  {
   "cell_type": "markdown",
   "metadata": {},
   "source": [
    "### Indexing on NumPy Arrays\n",
    "\n",
    "* Use brackets <code>[]</code>\n",
    "* Inside brackets, row/column indices are separated by a comma"
   ]
  },
  {
   "cell_type": "code",
   "execution_count": 83,
   "metadata": {
    "scrolled": true
   },
   "outputs": [
    {
     "data": {
      "text/plain": [
       "array([[   1.,    2.,    3.,    4.,    5.,    6.,    7.,    8.,    9.,\n",
       "          10.,   11.,   12.],\n",
       "       [   2.,    4.,    6.,    8.,   10.,   12.,   14.,   16.,   18.,\n",
       "          20.,   22.,   24.],\n",
       "       [   3.,    6.,    9.,   12.,   15.,   18.,   21.,   24.,   27.,\n",
       "          30.,   33.,   36.],\n",
       "       [   4.,    8.,   12.,   16.,   20.,   24.,   28.,   32.,   36.,\n",
       "          40.,   44.,   48.],\n",
       "       [   5.,   10.,   15.,   20.,   25.,   30.,   35.,   40.,   45.,\n",
       "          50.,   55.,   60.],\n",
       "       [   6.,   12.,   18.,   24.,   30.,   36.,   42.,   48.,   54.,\n",
       "          60.,   66.,   72.],\n",
       "       [   7.,   14.,   21.,   28.,   35.,   42.,   49.,   56.,   63.,\n",
       "          70.,   77.,   84.],\n",
       "       [   8.,   16.,   24.,   32.,   40.,   48.,   56.,   64.,   72.,\n",
       "          80.,   88.,   96.],\n",
       "       [   9.,   18.,   27.,   36.,   45.,   54.,   63.,   72.,   81.,\n",
       "          90.,   99.,  108.],\n",
       "       [  10.,   20.,   30.,   40.,   50.,   60.,   70.,   80.,   90.,\n",
       "         100.,  110.,  120.],\n",
       "       [  11.,   22.,   33.,   44.,   55.,   66.,   77.,   88.,   99.,\n",
       "         110.,  121.,  132.],\n",
       "       [  12.,   24.,   36.,   48.,   60.,   72.,   84.,   96.,  108.,\n",
       "         120.,  132.,  144.]])"
      ]
     },
     "execution_count": 83,
     "metadata": {},
     "output_type": "execute_result"
    }
   ],
   "source": [
    "\n",
    "for i in range(1,13):\n",
    "    for j in range(1,13):\n",
    "        mult_table[ i-1, j-1 ] = i * j\n",
    "\n",
    "mult_table"
   ]
  },
  {
   "cell_type": "code",
   "execution_count": 86,
   "metadata": {},
   "outputs": [
    {
     "data": {
      "text/plain": [
       "array([ 48.,  60.])"
      ]
     },
     "execution_count": 86,
     "metadata": {},
     "output_type": "execute_result"
    }
   ],
   "source": [
    "mult_table[3:5,-1]"
   ]
  },
  {
   "cell_type": "markdown",
   "metadata": {},
   "source": [
    "### Missing data\n",
    "\n",
    "* Oftentimes, missing data is represented as <code>np.nan</code>, which stands for Not A Number\n",
    "* No missing data representation for an integer"
   ]
  },
  {
   "cell_type": "code",
   "execution_count": 88,
   "metadata": {
    "collapsed": true
   },
   "outputs": [],
   "source": [
    "decimal_mult_table = mult_table.astype(float)"
   ]
  },
  {
   "cell_type": "code",
   "execution_count": 89,
   "metadata": {},
   "outputs": [
    {
     "data": {
      "text/plain": [
       "array([[   1.,    2.,    3.,    4.,    5.,    6.,    7.,    8.,    9.,\n",
       "          10.,   11.,   12.],\n",
       "       [   2.,    4.,    6.,    8.,   10.,   12.,   14.,   16.,   18.,\n",
       "          20.,   22.,   24.],\n",
       "       [   3.,    6.,    9.,   12.,   15.,   18.,   21.,   24.,   27.,\n",
       "          30.,   33.,   36.],\n",
       "       [   4.,    8.,   12.,   16.,   20.,   24.,   28.,   32.,   36.,\n",
       "          40.,   44.,   48.],\n",
       "       [   5.,   10.,   15.,   20.,   25.,   30.,   35.,   40.,   45.,\n",
       "          50.,   55.,   60.],\n",
       "       [   6.,   12.,   18.,   24.,   30.,   36.,   42.,   48.,   54.,\n",
       "          60.,   66.,   72.],\n",
       "       [   7.,   14.,   21.,   28.,   35.,   42.,   49.,   56.,   63.,\n",
       "          70.,   77.,   84.],\n",
       "       [   8.,   16.,   24.,   32.,   40.,   48.,   56.,   64.,   72.,\n",
       "          80.,   88.,   96.],\n",
       "       [   9.,   18.,   27.,   36.,   45.,   54.,   63.,   72.,   81.,\n",
       "          90.,   99.,  108.],\n",
       "       [  10.,   20.,   30.,   40.,   50.,   60.,   70.,   80.,   90.,\n",
       "         100.,  110.,  120.],\n",
       "       [  11.,   22.,   33.,   44.,   55.,   66.,   77.,   88.,   99.,\n",
       "         110.,  121.,  132.],\n",
       "       [  12.,   24.,   36.,   48.,   60.,   72.,   84.,   96.,  108.,\n",
       "         120.,  132.,  144.]])"
      ]
     },
     "execution_count": 89,
     "metadata": {},
     "output_type": "execute_result"
    }
   ],
   "source": [
    "decimal_mult_table"
   ]
  },
  {
   "cell_type": "code",
   "execution_count": 90,
   "metadata": {},
   "outputs": [
    {
     "data": {
      "text/plain": [
       "array([  1.,   2.,   3.,   4.,   5.,   6.,   7.,   8.,   9.,  10.,  11.,\n",
       "        12.])"
      ]
     },
     "execution_count": 90,
     "metadata": {},
     "output_type": "execute_result"
    }
   ],
   "source": [
    "decimal_mult_table[0]"
   ]
  },
  {
   "cell_type": "code",
   "execution_count": 91,
   "metadata": {},
   "outputs": [
    {
     "data": {
      "text/plain": [
       "78.0"
      ]
     },
     "execution_count": 91,
     "metadata": {},
     "output_type": "execute_result"
    }
   ],
   "source": [
    "decimal_mult_table[0].sum()"
   ]
  },
  {
   "cell_type": "code",
   "execution_count": 93,
   "metadata": {},
   "outputs": [
    {
     "data": {
      "text/plain": [
       "12.0"
      ]
     },
     "execution_count": 93,
     "metadata": {},
     "output_type": "execute_result"
    }
   ],
   "source": [
    "decimal_mult_table[0, -1]"
   ]
  },
  {
   "cell_type": "code",
   "execution_count": 94,
   "metadata": {
    "collapsed": true
   },
   "outputs": [],
   "source": [
    "decimal_mult_table[0, -1] = np.nan"
   ]
  },
  {
   "cell_type": "code",
   "execution_count": 95,
   "metadata": {},
   "outputs": [
    {
     "data": {
      "text/plain": [
       "array([  1.,   2.,   3.,   4.,   5.,   6.,   7.,   8.,   9.,  10.,  11.,\n",
       "        nan])"
      ]
     },
     "execution_count": 95,
     "metadata": {},
     "output_type": "execute_result"
    }
   ],
   "source": [
    "decimal_mult_table[0]"
   ]
  },
  {
   "cell_type": "code",
   "execution_count": 96,
   "metadata": {},
   "outputs": [
    {
     "data": {
      "text/plain": [
       "nan"
      ]
     },
     "execution_count": 96,
     "metadata": {},
     "output_type": "execute_result"
    }
   ],
   "source": [
    "decimal_mult_table.sum()"
   ]
  },
  {
   "cell_type": "code",
   "execution_count": 99,
   "metadata": {},
   "outputs": [
    {
     "data": {
      "text/plain": [
       "66.0"
      ]
     },
     "execution_count": 99,
     "metadata": {},
     "output_type": "execute_result"
    }
   ],
   "source": [
    "np.nansum( decimal_mult_table[0] )"
   ]
  },
  {
   "cell_type": "code",
   "execution_count": 100,
   "metadata": {},
   "outputs": [
    {
     "data": {
      "text/plain": [
       "6.0"
      ]
     },
     "execution_count": 100,
     "metadata": {},
     "output_type": "execute_result"
    }
   ],
   "source": [
    "np.nanmean( decimal_mult_table[0] )"
   ]
  },
  {
   "cell_type": "code",
   "execution_count": 101,
   "metadata": {
    "collapsed": true
   },
   "outputs": [],
   "source": [
    "np.nanmean?"
   ]
  },
  {
   "cell_type": "code",
   "execution_count": 106,
   "metadata": {},
   "outputs": [
    {
     "data": {
      "text/plain": [
       "array([[  1.00000000e+00,   2.00000000e+00,   3.00000000e+00,\n",
       "          4.00000000e+00,   5.00000000e+00,   6.00000000e+00,\n",
       "          7.00000000e+00,   8.00000000e+00,   9.00000000e+00,\n",
       "          1.00000000e+01,   1.10000000e+03,              nan],\n",
       "       [  2.00000000e+00,   4.00000000e+00,   6.00000000e+00,\n",
       "          8.00000000e+00,   1.00000000e+01,   1.20000000e+01,\n",
       "          1.40000000e+01,   1.60000000e+01,   1.80000000e+01,\n",
       "          2.00000000e+01,   2.20000000e+03,              nan],\n",
       "       [  3.00000000e+00,   6.00000000e+00,   9.00000000e+00,\n",
       "          1.20000000e+01,   1.50000000e+01,   1.80000000e+01,\n",
       "          2.10000000e+01,   2.40000000e+01,   2.70000000e+01,\n",
       "          3.00000000e+01,   3.30000000e+03,              nan],\n",
       "       [  4.00000000e+00,   8.00000000e+00,   1.20000000e+01,\n",
       "          1.60000000e+01,   2.00000000e+01,   2.40000000e+01,\n",
       "          2.80000000e+01,   3.20000000e+01,   3.60000000e+01,\n",
       "          4.00000000e+01,   4.40000000e+03,              nan],\n",
       "       [  5.00000000e+00,   1.00000000e+01,   1.50000000e+01,\n",
       "          2.00000000e+01,   2.50000000e+01,   3.00000000e+01,\n",
       "          3.50000000e+01,   4.00000000e+01,   4.50000000e+01,\n",
       "          5.00000000e+01,   5.50000000e+03,              nan],\n",
       "       [  6.00000000e+00,   1.20000000e+01,   1.80000000e+01,\n",
       "          2.40000000e+01,   3.00000000e+01,   3.60000000e+01,\n",
       "          4.20000000e+01,   4.80000000e+01,   5.40000000e+01,\n",
       "          6.00000000e+01,   6.60000000e+03,              nan],\n",
       "       [  7.00000000e+00,   1.40000000e+01,   2.10000000e+01,\n",
       "          2.80000000e+01,   3.50000000e+01,   4.20000000e+01,\n",
       "          4.90000000e+01,   5.60000000e+01,   6.30000000e+01,\n",
       "          7.00000000e+01,   7.70000000e+03,              nan],\n",
       "       [  8.00000000e+00,   1.60000000e+01,   2.40000000e+01,\n",
       "          3.20000000e+01,   4.00000000e+01,   4.80000000e+01,\n",
       "          5.60000000e+01,   6.40000000e+01,   7.20000000e+01,\n",
       "          8.00000000e+01,   8.80000000e+03,              nan],\n",
       "       [  9.00000000e+00,   1.80000000e+01,   2.70000000e+01,\n",
       "          3.60000000e+01,   4.50000000e+01,   5.40000000e+01,\n",
       "          6.30000000e+01,   7.20000000e+01,   8.10000000e+01,\n",
       "          9.00000000e+01,   9.90000000e+03,              nan],\n",
       "       [  1.00000000e+01,   2.00000000e+01,   3.00000000e+01,\n",
       "          4.00000000e+01,   5.00000000e+01,   6.00000000e+01,\n",
       "          7.00000000e+01,   8.00000000e+01,   9.00000000e+01,\n",
       "          1.00000000e+02,   1.10000000e+04,              nan],\n",
       "       [  1.10000000e+01,   2.20000000e+01,   3.30000000e+01,\n",
       "          4.40000000e+01,   5.50000000e+01,   6.60000000e+01,\n",
       "          7.70000000e+01,   8.80000000e+01,   9.90000000e+01,\n",
       "          1.10000000e+02,   1.21000000e+04,              nan],\n",
       "       [  1.20000000e+01,   2.40000000e+01,   3.60000000e+01,\n",
       "          4.80000000e+01,   6.00000000e+01,   7.20000000e+01,\n",
       "          8.40000000e+01,   9.60000000e+01,   1.08000000e+02,\n",
       "          1.20000000e+02,   1.32000000e+04,              nan]])"
      ]
     },
     "execution_count": 106,
     "metadata": {},
     "output_type": "execute_result"
    }
   ],
   "source": [
    "decimal_mult_table"
   ]
  },
  {
   "cell_type": "code",
   "execution_count": 103,
   "metadata": {
    "collapsed": true
   },
   "outputs": [],
   "source": [
    "decimal_mult_table[:, -1] = np.nan"
   ]
  },
  {
   "cell_type": "code",
   "execution_count": 110,
   "metadata": {
    "collapsed": true
   },
   "outputs": [],
   "source": [
    "the_copy = decimal_mult_table[:, -2].copy() * 100"
   ]
  },
  {
   "cell_type": "code",
   "execution_count": 111,
   "metadata": {},
   "outputs": [
    {
     "data": {
      "text/plain": [
       "array([  110000.,   220000.,   330000.,   440000.,   550000.,   660000.,\n",
       "         770000.,   880000.,   990000.,  1100000.,  1210000.,  1320000.])"
      ]
     },
     "execution_count": 111,
     "metadata": {},
     "output_type": "execute_result"
    }
   ],
   "source": [
    "the_copy"
   ]
  },
  {
   "cell_type": "code",
   "execution_count": null,
   "metadata": {
    "collapsed": true
   },
   "outputs": [],
   "source": [
    "decimal_mult_table[:, -2] *= 100"
   ]
  },
  {
   "cell_type": "markdown",
   "metadata": {},
   "source": [
    "## PANDAS DataFrame\n",
    "\n",
    "* Emulate R's <code>data.frame</code> structure.\n",
    "* Basically a NumPy matrix with\n",
    "    * Row and column names\n",
    "    * Can have columns of different types\n",
    "    * Handles missing data better"
   ]
  },
  {
   "cell_type": "code",
   "execution_count": 112,
   "metadata": {
    "collapsed": true
   },
   "outputs": [],
   "source": [
    "import pandas as pd"
   ]
  },
  {
   "cell_type": "code",
   "execution_count": 113,
   "metadata": {},
   "outputs": [
    {
     "data": {
      "text/plain": [
       "'C:\\\\Users\\\\colettace\\\\Desktop'"
      ]
     },
     "execution_count": 113,
     "metadata": {},
     "output_type": "execute_result"
    }
   ],
   "source": [
    "pwd"
   ]
  },
  {
   "cell_type": "code",
   "execution_count": 114,
   "metadata": {
    "scrolled": true
   },
   "outputs": [
    {
     "name": "stdout",
     "output_type": "stream",
     "text": [
      " Volume in drive C has no label.\n",
      " Volume Serial Number is AE9B-5918\n",
      "\n",
      " Directory of C:\\Users\\colettace\\Desktop\n",
      "\n",
      "05/17/2017  02:23 PM    <DIR>          .\n",
      "05/17/2017  02:23 PM    <DIR>          ..\n",
      "05/17/2017  01:05 PM    <DIR>          .ipynb_checkpoints\n",
      "05/15/2017  01:07 PM             2,255 Google Chrome.lnk\n",
      "05/15/2017  12:05 PM           215,550 MicroarrayAnalysisUsingPython.ipynb\n",
      "05/15/2017  01:41 PM    <DIR>          NewFolder\n",
      "05/15/2017  02:38 PM            37,661 NIAPythonDay1.ipynb\n",
      "05/16/2017  02:37 PM            47,238 NIAPythonDay2.ipynb\n",
      "05/17/2017  02:23 PM            39,988 NIAPythonDay3.ipynb\n",
      "05/15/2017  12:05 PM        20,074,758 samplefile.xlsx\n",
      "               6 File(s)     20,417,450 bytes\n",
      "               4 Dir(s)  254,650,126,336 bytes free\n"
     ]
    }
   ],
   "source": [
    "ls"
   ]
  },
  {
   "cell_type": "code",
   "execution_count": 115,
   "metadata": {
    "collapsed": true
   },
   "outputs": [],
   "source": [
    "df = pd.read_excel('samplefile.xlsx')"
   ]
  },
  {
   "cell_type": "code",
   "execution_count": 116,
   "metadata": {},
   "outputs": [
    {
     "data": {
      "text/plain": [
       "59734"
      ]
     },
     "execution_count": 116,
     "metadata": {},
     "output_type": "execute_result"
    }
   ],
   "source": [
    "len(df)"
   ]
  },
  {
   "cell_type": "code",
   "execution_count": 117,
   "metadata": {},
   "outputs": [
    {
     "data": {
      "text/plain": [
       "33"
      ]
     },
     "execution_count": 117,
     "metadata": {},
     "output_type": "execute_result"
    }
   ],
   "source": [
    "len(df.columns)"
   ]
  },
  {
   "cell_type": "code",
   "execution_count": 118,
   "metadata": {},
   "outputs": [
    {
     "data": {
      "text/plain": [
       "(59734, 33)"
      ]
     },
     "execution_count": 118,
     "metadata": {},
     "output_type": "execute_result"
    }
   ],
   "source": [
    "df.shape"
   ]
  },
  {
   "cell_type": "code",
   "execution_count": 120,
   "metadata": {},
   "outputs": [
    {
     "data": {
      "text/html": [
       "<div>\n",
       "<table border=\"1\" class=\"dataframe\">\n",
       "  <thead>\n",
       "    <tr style=\"text-align: right;\">\n",
       "      <th></th>\n",
       "      <th>ArrayID</th>\n",
       "      <th>Symbol</th>\n",
       "      <th>AVG_Signal_BR1_TEST_O_1</th>\n",
       "      <th>AVG_Signal_BR1_TEST_O_2</th>\n",
       "      <th>AVG_Signal_BR1_TEST_O_3</th>\n",
       "      <th>AVG_Signal_BR1_TEST_O_4</th>\n",
       "      <th>AVG_Signal_BR1_TEST_Y_1</th>\n",
       "      <th>AVG_Signal_BR1_TEST_Y_2</th>\n",
       "      <th>AVG_Signal_BR1_TEST_Y_3</th>\n",
       "      <th>AVG_Signal_BR1_TEST_Y_4</th>\n",
       "      <th>...</th>\n",
       "      <th>AVG_Signal_BR2_TEST_Y_3</th>\n",
       "      <th>AVG_Signal_BR2_TEST_Y_4</th>\n",
       "      <th>AVG_Signal_BR2_CONTROL_O_1</th>\n",
       "      <th>AVG_Signal_BR2_CONTROL_O_2</th>\n",
       "      <th>AVG_Signal_BR2_CONTROL_O_3</th>\n",
       "      <th>AVG_Signal_BR2_CONTROL_O_4</th>\n",
       "      <th>AVG_Signal_BR2_CONTROL_Y_1</th>\n",
       "      <th>AVG_Signal_BR2_CONTROL_Y_2</th>\n",
       "      <th>AVG_Signal_BR2_CONTROL_Y_3</th>\n",
       "      <th>AVG_Signal_BR2_CONTROL_Y_4</th>\n",
       "    </tr>\n",
       "  </thead>\n",
       "  <tbody>\n",
       "    <tr>\n",
       "      <th>0</th>\n",
       "      <td>1</td>\n",
       "      <td>NA1</td>\n",
       "      <td>49209.040000</td>\n",
       "      <td>55571.090000</td>\n",
       "      <td>28678.790000</td>\n",
       "      <td>25506.290000</td>\n",
       "      <td>44113.210000</td>\n",
       "      <td>38091.490000</td>\n",
       "      <td>29641.850000</td>\n",
       "      <td>49992.200000</td>\n",
       "      <td>...</td>\n",
       "      <td>44737.370000</td>\n",
       "      <td>22252.720000</td>\n",
       "      <td>49358.380000</td>\n",
       "      <td>43576.560000</td>\n",
       "      <td>26025.020000</td>\n",
       "      <td>37025.120000</td>\n",
       "      <td>37762.740000</td>\n",
       "      <td>58349.680000</td>\n",
       "      <td>20307.620000</td>\n",
       "      <td>25211.600000</td>\n",
       "    </tr>\n",
       "    <tr>\n",
       "      <th>1</th>\n",
       "      <td>2</td>\n",
       "      <td>NA2</td>\n",
       "      <td>2.463345</td>\n",
       "      <td>3.040068</td>\n",
       "      <td>2.177575</td>\n",
       "      <td>2.220648</td>\n",
       "      <td>3.854862</td>\n",
       "      <td>4.541973</td>\n",
       "      <td>4.131402</td>\n",
       "      <td>4.389443</td>\n",
       "      <td>...</td>\n",
       "      <td>2.206764</td>\n",
       "      <td>2.059939</td>\n",
       "      <td>2.537871</td>\n",
       "      <td>2.222115</td>\n",
       "      <td>2.451152</td>\n",
       "      <td>2.370934</td>\n",
       "      <td>2.218160</td>\n",
       "      <td>2.299958</td>\n",
       "      <td>2.403679</td>\n",
       "      <td>2.306745</td>\n",
       "    </tr>\n",
       "    <tr>\n",
       "      <th>2</th>\n",
       "      <td>3</td>\n",
       "      <td>NA3</td>\n",
       "      <td>2.481884</td>\n",
       "      <td>3.074572</td>\n",
       "      <td>2.201559</td>\n",
       "      <td>2.244312</td>\n",
       "      <td>3.891572</td>\n",
       "      <td>4.587771</td>\n",
       "      <td>4.168455</td>\n",
       "      <td>4.438354</td>\n",
       "      <td>...</td>\n",
       "      <td>2.228056</td>\n",
       "      <td>2.085480</td>\n",
       "      <td>2.562563</td>\n",
       "      <td>2.245733</td>\n",
       "      <td>2.477620</td>\n",
       "      <td>2.396659</td>\n",
       "      <td>2.244386</td>\n",
       "      <td>2.326588</td>\n",
       "      <td>2.434108</td>\n",
       "      <td>2.333681</td>\n",
       "    </tr>\n",
       "    <tr>\n",
       "      <th>3</th>\n",
       "      <td>4</td>\n",
       "      <td>Tbc1d19</td>\n",
       "      <td>772.916500</td>\n",
       "      <td>631.279700</td>\n",
       "      <td>584.113500</td>\n",
       "      <td>377.609700</td>\n",
       "      <td>436.108800</td>\n",
       "      <td>553.688400</td>\n",
       "      <td>457.386500</td>\n",
       "      <td>640.446100</td>\n",
       "      <td>...</td>\n",
       "      <td>489.773300</td>\n",
       "      <td>355.093100</td>\n",
       "      <td>541.517400</td>\n",
       "      <td>750.365600</td>\n",
       "      <td>383.235700</td>\n",
       "      <td>430.450800</td>\n",
       "      <td>318.999300</td>\n",
       "      <td>315.689300</td>\n",
       "      <td>329.866800</td>\n",
       "      <td>342.941000</td>\n",
       "    </tr>\n",
       "    <tr>\n",
       "      <th>4</th>\n",
       "      <td>5</td>\n",
       "      <td>Cfc1</td>\n",
       "      <td>24.287960</td>\n",
       "      <td>3.138412</td>\n",
       "      <td>3.287079</td>\n",
       "      <td>2.287869</td>\n",
       "      <td>3.957448</td>\n",
       "      <td>4.674656</td>\n",
       "      <td>4.421931</td>\n",
       "      <td>8.066015</td>\n",
       "      <td>...</td>\n",
       "      <td>2.270093</td>\n",
       "      <td>2.132824</td>\n",
       "      <td>3.875421</td>\n",
       "      <td>2.290862</td>\n",
       "      <td>2.528369</td>\n",
       "      <td>2.446485</td>\n",
       "      <td>2.295713</td>\n",
       "      <td>2.373987</td>\n",
       "      <td>10.219560</td>\n",
       "      <td>2.383641</td>\n",
       "    </tr>\n",
       "  </tbody>\n",
       "</table>\n",
       "<p>5 rows × 33 columns</p>\n",
       "</div>"
      ],
      "text/plain": [
       "   ArrayID   Symbol  AVG_Signal_BR1_TEST_O_1  AVG_Signal_BR1_TEST_O_2  \\\n",
       "0        1      NA1             49209.040000             55571.090000   \n",
       "1        2      NA2                 2.463345                 3.040068   \n",
       "2        3      NA3                 2.481884                 3.074572   \n",
       "3        4  Tbc1d19               772.916500               631.279700   \n",
       "4        5     Cfc1                24.287960                 3.138412   \n",
       "\n",
       "   AVG_Signal_BR1_TEST_O_3  AVG_Signal_BR1_TEST_O_4  AVG_Signal_BR1_TEST_Y_1  \\\n",
       "0             28678.790000             25506.290000             44113.210000   \n",
       "1                 2.177575                 2.220648                 3.854862   \n",
       "2                 2.201559                 2.244312                 3.891572   \n",
       "3               584.113500               377.609700               436.108800   \n",
       "4                 3.287079                 2.287869                 3.957448   \n",
       "\n",
       "   AVG_Signal_BR1_TEST_Y_2  AVG_Signal_BR1_TEST_Y_3  AVG_Signal_BR1_TEST_Y_4  \\\n",
       "0             38091.490000             29641.850000             49992.200000   \n",
       "1                 4.541973                 4.131402                 4.389443   \n",
       "2                 4.587771                 4.168455                 4.438354   \n",
       "3               553.688400               457.386500               640.446100   \n",
       "4                 4.674656                 4.421931                 8.066015   \n",
       "\n",
       "              ...              AVG_Signal_BR2_TEST_Y_3  \\\n",
       "0             ...                         44737.370000   \n",
       "1             ...                             2.206764   \n",
       "2             ...                             2.228056   \n",
       "3             ...                           489.773300   \n",
       "4             ...                             2.270093   \n",
       "\n",
       "   AVG_Signal_BR2_TEST_Y_4  AVG_Signal_BR2_CONTROL_O_1  \\\n",
       "0             22252.720000                49358.380000   \n",
       "1                 2.059939                    2.537871   \n",
       "2                 2.085480                    2.562563   \n",
       "3               355.093100                  541.517400   \n",
       "4                 2.132824                    3.875421   \n",
       "\n",
       "   AVG_Signal_BR2_CONTROL_O_2  AVG_Signal_BR2_CONTROL_O_3  \\\n",
       "0                43576.560000                26025.020000   \n",
       "1                    2.222115                    2.451152   \n",
       "2                    2.245733                    2.477620   \n",
       "3                  750.365600                  383.235700   \n",
       "4                    2.290862                    2.528369   \n",
       "\n",
       "   AVG_Signal_BR2_CONTROL_O_4  AVG_Signal_BR2_CONTROL_Y_1  \\\n",
       "0                37025.120000                37762.740000   \n",
       "1                    2.370934                    2.218160   \n",
       "2                    2.396659                    2.244386   \n",
       "3                  430.450800                  318.999300   \n",
       "4                    2.446485                    2.295713   \n",
       "\n",
       "   AVG_Signal_BR2_CONTROL_Y_2  AVG_Signal_BR2_CONTROL_Y_3  \\\n",
       "0                58349.680000                20307.620000   \n",
       "1                    2.299958                    2.403679   \n",
       "2                    2.326588                    2.434108   \n",
       "3                  315.689300                  329.866800   \n",
       "4                    2.373987                   10.219560   \n",
       "\n",
       "   AVG_Signal_BR2_CONTROL_Y_4  \n",
       "0                25211.600000  \n",
       "1                    2.306745  \n",
       "2                    2.333681  \n",
       "3                  342.941000  \n",
       "4                    2.383641  \n",
       "\n",
       "[5 rows x 33 columns]"
      ]
     },
     "execution_count": 120,
     "metadata": {},
     "output_type": "execute_result"
    }
   ],
   "source": [
    "df.head()"
   ]
  },
  {
   "cell_type": "code",
   "execution_count": 122,
   "metadata": {},
   "outputs": [
    {
     "data": {
      "text/html": [
       "<div>\n",
       "<table border=\"1\" class=\"dataframe\">\n",
       "  <thead>\n",
       "    <tr style=\"text-align: right;\">\n",
       "      <th></th>\n",
       "      <th>ArrayID</th>\n",
       "      <th>Symbol</th>\n",
       "      <th>AVG_Signal_BR1_TEST_O_1</th>\n",
       "      <th>AVG_Signal_BR1_TEST_O_2</th>\n",
       "      <th>AVG_Signal_BR1_TEST_O_3</th>\n",
       "      <th>AVG_Signal_BR1_TEST_O_4</th>\n",
       "      <th>AVG_Signal_BR1_TEST_Y_1</th>\n",
       "      <th>AVG_Signal_BR1_TEST_Y_2</th>\n",
       "      <th>AVG_Signal_BR1_TEST_Y_3</th>\n",
       "      <th>AVG_Signal_BR1_TEST_Y_4</th>\n",
       "      <th>...</th>\n",
       "      <th>AVG_Signal_BR2_TEST_Y_3</th>\n",
       "      <th>AVG_Signal_BR2_TEST_Y_4</th>\n",
       "      <th>AVG_Signal_BR2_CONTROL_O_1</th>\n",
       "      <th>AVG_Signal_BR2_CONTROL_O_2</th>\n",
       "      <th>AVG_Signal_BR2_CONTROL_O_3</th>\n",
       "      <th>AVG_Signal_BR2_CONTROL_O_4</th>\n",
       "      <th>AVG_Signal_BR2_CONTROL_Y_1</th>\n",
       "      <th>AVG_Signal_BR2_CONTROL_Y_2</th>\n",
       "      <th>AVG_Signal_BR2_CONTROL_Y_3</th>\n",
       "      <th>AVG_Signal_BR2_CONTROL_Y_4</th>\n",
       "    </tr>\n",
       "  </thead>\n",
       "  <tbody>\n",
       "    <tr>\n",
       "      <th>59729</th>\n",
       "      <td>62972</td>\n",
       "      <td>LOC100911030</td>\n",
       "      <td>54.224690</td>\n",
       "      <td>35.754840</td>\n",
       "      <td>31.889580</td>\n",
       "      <td>35.309710</td>\n",
       "      <td>18.877300</td>\n",
       "      <td>25.686570</td>\n",
       "      <td>16.590890</td>\n",
       "      <td>11.679150</td>\n",
       "      <td>...</td>\n",
       "      <td>32.578160</td>\n",
       "      <td>16.678250</td>\n",
       "      <td>21.444510</td>\n",
       "      <td>34.146530</td>\n",
       "      <td>21.407520</td>\n",
       "      <td>25.26320</td>\n",
       "      <td>15.730260</td>\n",
       "      <td>29.261880</td>\n",
       "      <td>20.607420</td>\n",
       "      <td>23.117860</td>\n",
       "    </tr>\n",
       "    <tr>\n",
       "      <th>59730</th>\n",
       "      <td>62973</td>\n",
       "      <td>NA11371</td>\n",
       "      <td>2.554798</td>\n",
       "      <td>3.154194</td>\n",
       "      <td>2.375917</td>\n",
       "      <td>2.294845</td>\n",
       "      <td>3.994322</td>\n",
       "      <td>4.788048</td>\n",
       "      <td>4.358372</td>\n",
       "      <td>4.492544</td>\n",
       "      <td>...</td>\n",
       "      <td>2.315197</td>\n",
       "      <td>2.154653</td>\n",
       "      <td>2.606643</td>\n",
       "      <td>2.304856</td>\n",
       "      <td>2.526632</td>\n",
       "      <td>2.39470</td>\n",
       "      <td>2.429271</td>\n",
       "      <td>2.378576</td>\n",
       "      <td>2.417137</td>\n",
       "      <td>2.497314</td>\n",
       "    </tr>\n",
       "    <tr>\n",
       "      <th>59731</th>\n",
       "      <td>62974</td>\n",
       "      <td>NA11372</td>\n",
       "      <td>2.540203</td>\n",
       "      <td>3.123994</td>\n",
       "      <td>2.352405</td>\n",
       "      <td>2.276225</td>\n",
       "      <td>3.973528</td>\n",
       "      <td>4.760257</td>\n",
       "      <td>4.334032</td>\n",
       "      <td>4.460730</td>\n",
       "      <td>...</td>\n",
       "      <td>2.297506</td>\n",
       "      <td>2.135165</td>\n",
       "      <td>2.582128</td>\n",
       "      <td>2.286663</td>\n",
       "      <td>2.504557</td>\n",
       "      <td>2.37428</td>\n",
       "      <td>2.404696</td>\n",
       "      <td>2.360261</td>\n",
       "      <td>2.394571</td>\n",
       "      <td>2.478401</td>\n",
       "    </tr>\n",
       "    <tr>\n",
       "      <th>59732</th>\n",
       "      <td>62975</td>\n",
       "      <td>NA11373</td>\n",
       "      <td>46838.700000</td>\n",
       "      <td>50219.100000</td>\n",
       "      <td>26781.290000</td>\n",
       "      <td>21699.990000</td>\n",
       "      <td>56597.200000</td>\n",
       "      <td>34399.530000</td>\n",
       "      <td>24484.380000</td>\n",
       "      <td>42579.330000</td>\n",
       "      <td>...</td>\n",
       "      <td>39437.840000</td>\n",
       "      <td>19065.650000</td>\n",
       "      <td>45468.390000</td>\n",
       "      <td>38192.240000</td>\n",
       "      <td>23391.610000</td>\n",
       "      <td>34276.04000</td>\n",
       "      <td>33938.490000</td>\n",
       "      <td>57972.020000</td>\n",
       "      <td>17723.860000</td>\n",
       "      <td>23862.660000</td>\n",
       "    </tr>\n",
       "    <tr>\n",
       "      <th>59733</th>\n",
       "      <td>62976</td>\n",
       "      <td>NA11374</td>\n",
       "      <td>49877.940000</td>\n",
       "      <td>58878.920000</td>\n",
       "      <td>28401.580000</td>\n",
       "      <td>23473.500000</td>\n",
       "      <td>63054.370000</td>\n",
       "      <td>35892.010000</td>\n",
       "      <td>25030.260000</td>\n",
       "      <td>44512.540000</td>\n",
       "      <td>...</td>\n",
       "      <td>45687.150000</td>\n",
       "      <td>22055.600000</td>\n",
       "      <td>49109.150000</td>\n",
       "      <td>42386.760000</td>\n",
       "      <td>25735.490000</td>\n",
       "      <td>38670.31000</td>\n",
       "      <td>37094.900000</td>\n",
       "      <td>56548.620000</td>\n",
       "      <td>19186.920000</td>\n",
       "      <td>25652.130000</td>\n",
       "    </tr>\n",
       "  </tbody>\n",
       "</table>\n",
       "<p>5 rows × 33 columns</p>\n",
       "</div>"
      ],
      "text/plain": [
       "       ArrayID        Symbol  AVG_Signal_BR1_TEST_O_1  \\\n",
       "59729    62972  LOC100911030                54.224690   \n",
       "59730    62973       NA11371                 2.554798   \n",
       "59731    62974       NA11372                 2.540203   \n",
       "59732    62975       NA11373             46838.700000   \n",
       "59733    62976       NA11374             49877.940000   \n",
       "\n",
       "       AVG_Signal_BR1_TEST_O_2  AVG_Signal_BR1_TEST_O_3  \\\n",
       "59729                35.754840                31.889580   \n",
       "59730                 3.154194                 2.375917   \n",
       "59731                 3.123994                 2.352405   \n",
       "59732             50219.100000             26781.290000   \n",
       "59733             58878.920000             28401.580000   \n",
       "\n",
       "       AVG_Signal_BR1_TEST_O_4  AVG_Signal_BR1_TEST_Y_1  \\\n",
       "59729                35.309710                18.877300   \n",
       "59730                 2.294845                 3.994322   \n",
       "59731                 2.276225                 3.973528   \n",
       "59732             21699.990000             56597.200000   \n",
       "59733             23473.500000             63054.370000   \n",
       "\n",
       "       AVG_Signal_BR1_TEST_Y_2  AVG_Signal_BR1_TEST_Y_3  \\\n",
       "59729                25.686570                16.590890   \n",
       "59730                 4.788048                 4.358372   \n",
       "59731                 4.760257                 4.334032   \n",
       "59732             34399.530000             24484.380000   \n",
       "59733             35892.010000             25030.260000   \n",
       "\n",
       "       AVG_Signal_BR1_TEST_Y_4             ...              \\\n",
       "59729                11.679150             ...               \n",
       "59730                 4.492544             ...               \n",
       "59731                 4.460730             ...               \n",
       "59732             42579.330000             ...               \n",
       "59733             44512.540000             ...               \n",
       "\n",
       "       AVG_Signal_BR2_TEST_Y_3  AVG_Signal_BR2_TEST_Y_4  \\\n",
       "59729                32.578160                16.678250   \n",
       "59730                 2.315197                 2.154653   \n",
       "59731                 2.297506                 2.135165   \n",
       "59732             39437.840000             19065.650000   \n",
       "59733             45687.150000             22055.600000   \n",
       "\n",
       "       AVG_Signal_BR2_CONTROL_O_1  AVG_Signal_BR2_CONTROL_O_2  \\\n",
       "59729                   21.444510                   34.146530   \n",
       "59730                    2.606643                    2.304856   \n",
       "59731                    2.582128                    2.286663   \n",
       "59732                45468.390000                38192.240000   \n",
       "59733                49109.150000                42386.760000   \n",
       "\n",
       "       AVG_Signal_BR2_CONTROL_O_3  AVG_Signal_BR2_CONTROL_O_4  \\\n",
       "59729                   21.407520                    25.26320   \n",
       "59730                    2.526632                     2.39470   \n",
       "59731                    2.504557                     2.37428   \n",
       "59732                23391.610000                 34276.04000   \n",
       "59733                25735.490000                 38670.31000   \n",
       "\n",
       "       AVG_Signal_BR2_CONTROL_Y_1  AVG_Signal_BR2_CONTROL_Y_2  \\\n",
       "59729                   15.730260                   29.261880   \n",
       "59730                    2.429271                    2.378576   \n",
       "59731                    2.404696                    2.360261   \n",
       "59732                33938.490000                57972.020000   \n",
       "59733                37094.900000                56548.620000   \n",
       "\n",
       "       AVG_Signal_BR2_CONTROL_Y_3  AVG_Signal_BR2_CONTROL_Y_4  \n",
       "59729                   20.607420                   23.117860  \n",
       "59730                    2.417137                    2.497314  \n",
       "59731                    2.394571                    2.478401  \n",
       "59732                17723.860000                23862.660000  \n",
       "59733                19186.920000                25652.130000  \n",
       "\n",
       "[5 rows x 33 columns]"
      ]
     },
     "execution_count": 122,
     "metadata": {},
     "output_type": "execute_result"
    }
   ],
   "source": [
    "df.tail(5)"
   ]
  },
  {
   "cell_type": "code",
   "execution_count": 123,
   "metadata": {},
   "outputs": [
    {
     "data": {
      "text/html": [
       "<div>\n",
       "<table border=\"1\" class=\"dataframe\">\n",
       "  <thead>\n",
       "    <tr style=\"text-align: right;\">\n",
       "      <th></th>\n",
       "      <th>ArrayID</th>\n",
       "      <th>Symbol</th>\n",
       "      <th>AVG_Signal_BR1_TEST_O_1</th>\n",
       "      <th>AVG_Signal_BR1_TEST_O_2</th>\n",
       "      <th>AVG_Signal_BR1_TEST_O_3</th>\n",
       "      <th>AVG_Signal_BR1_TEST_O_4</th>\n",
       "      <th>AVG_Signal_BR1_TEST_Y_1</th>\n",
       "      <th>AVG_Signal_BR1_TEST_Y_2</th>\n",
       "      <th>AVG_Signal_BR1_TEST_Y_3</th>\n",
       "      <th>AVG_Signal_BR1_TEST_Y_4</th>\n",
       "      <th>...</th>\n",
       "      <th>AVG_Signal_BR2_TEST_Y_3</th>\n",
       "      <th>AVG_Signal_BR2_TEST_Y_4</th>\n",
       "      <th>AVG_Signal_BR2_CONTROL_O_1</th>\n",
       "      <th>AVG_Signal_BR2_CONTROL_O_2</th>\n",
       "      <th>AVG_Signal_BR2_CONTROL_O_3</th>\n",
       "      <th>AVG_Signal_BR2_CONTROL_O_4</th>\n",
       "      <th>AVG_Signal_BR2_CONTROL_Y_1</th>\n",
       "      <th>AVG_Signal_BR2_CONTROL_Y_2</th>\n",
       "      <th>AVG_Signal_BR2_CONTROL_Y_3</th>\n",
       "      <th>AVG_Signal_BR2_CONTROL_Y_4</th>\n",
       "    </tr>\n",
       "  </thead>\n",
       "  <tbody>\n",
       "    <tr>\n",
       "      <th>59733</th>\n",
       "      <td>62976</td>\n",
       "      <td>NA11374</td>\n",
       "      <td>49877.94</td>\n",
       "      <td>58878.92</td>\n",
       "      <td>28401.58</td>\n",
       "      <td>23473.5</td>\n",
       "      <td>63054.37</td>\n",
       "      <td>35892.01</td>\n",
       "      <td>25030.26</td>\n",
       "      <td>44512.54</td>\n",
       "      <td>...</td>\n",
       "      <td>45687.15</td>\n",
       "      <td>22055.6</td>\n",
       "      <td>49109.15</td>\n",
       "      <td>42386.76</td>\n",
       "      <td>25735.49</td>\n",
       "      <td>38670.31</td>\n",
       "      <td>37094.9</td>\n",
       "      <td>56548.62</td>\n",
       "      <td>19186.92</td>\n",
       "      <td>25652.13</td>\n",
       "    </tr>\n",
       "  </tbody>\n",
       "</table>\n",
       "<p>1 rows × 33 columns</p>\n",
       "</div>"
      ],
      "text/plain": [
       "       ArrayID   Symbol  AVG_Signal_BR1_TEST_O_1  AVG_Signal_BR1_TEST_O_2  \\\n",
       "59733    62976  NA11374                 49877.94                 58878.92   \n",
       "\n",
       "       AVG_Signal_BR1_TEST_O_3  AVG_Signal_BR1_TEST_O_4  \\\n",
       "59733                 28401.58                  23473.5   \n",
       "\n",
       "       AVG_Signal_BR1_TEST_Y_1  AVG_Signal_BR1_TEST_Y_2  \\\n",
       "59733                 63054.37                 35892.01   \n",
       "\n",
       "       AVG_Signal_BR1_TEST_Y_3  AVG_Signal_BR1_TEST_Y_4  \\\n",
       "59733                 25030.26                 44512.54   \n",
       "\n",
       "                  ...              AVG_Signal_BR2_TEST_Y_3  \\\n",
       "59733             ...                             45687.15   \n",
       "\n",
       "       AVG_Signal_BR2_TEST_Y_4  AVG_Signal_BR2_CONTROL_O_1  \\\n",
       "59733                  22055.6                    49109.15   \n",
       "\n",
       "       AVG_Signal_BR2_CONTROL_O_2  AVG_Signal_BR2_CONTROL_O_3  \\\n",
       "59733                    42386.76                    25735.49   \n",
       "\n",
       "       AVG_Signal_BR2_CONTROL_O_4  AVG_Signal_BR2_CONTROL_Y_1  \\\n",
       "59733                    38670.31                     37094.9   \n",
       "\n",
       "       AVG_Signal_BR2_CONTROL_Y_2  AVG_Signal_BR2_CONTROL_Y_3  \\\n",
       "59733                    56548.62                    19186.92   \n",
       "\n",
       "       AVG_Signal_BR2_CONTROL_Y_4  \n",
       "59733                    25652.13  \n",
       "\n",
       "[1 rows x 33 columns]"
      ]
     },
     "execution_count": 123,
     "metadata": {},
     "output_type": "execute_result"
    }
   ],
   "source": [
    "df[ df['Symbol'] == 'NA11374' ]"
   ]
  },
  {
   "cell_type": "code",
   "execution_count": null,
   "metadata": {
    "collapsed": true
   },
   "outputs": [],
   "source": []
  }
 ],
 "metadata": {
  "kernelspec": {
   "display_name": "Python 3",
   "language": "python",
   "name": "python3"
  },
  "language_info": {
   "codemirror_mode": {
    "name": "ipython",
    "version": 3
   },
   "file_extension": ".py",
   "mimetype": "text/x-python",
   "name": "python",
   "nbconvert_exporter": "python",
   "pygments_lexer": "ipython3",
   "version": "3.6.1"
  }
 },
 "nbformat": 4,
 "nbformat_minor": 1
}
